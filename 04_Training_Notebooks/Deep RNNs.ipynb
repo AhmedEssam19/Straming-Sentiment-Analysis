{
 "cells": [
  {
   "cell_type": "code",
   "execution_count": 1,
   "metadata": {},
   "outputs": [
    {
     "data": {
      "text/html": [
       "<div>\n",
       "<style scoped>\n",
       "    .dataframe tbody tr th:only-of-type {\n",
       "        vertical-align: middle;\n",
       "    }\n",
       "\n",
       "    .dataframe tbody tr th {\n",
       "        vertical-align: top;\n",
       "    }\n",
       "\n",
       "    .dataframe thead th {\n",
       "        text-align: right;\n",
       "    }\n",
       "</style>\n",
       "<table border=\"1\" class=\"dataframe\">\n",
       "  <thead>\n",
       "    <tr style=\"text-align: right;\">\n",
       "      <th></th>\n",
       "      <th>text</th>\n",
       "      <th>target</th>\n",
       "    </tr>\n",
       "  </thead>\n",
       "  <tbody>\n",
       "    <tr>\n",
       "      <th>0</th>\n",
       "      <td>LOLLL IT IS OFFICIALLY DAYLIGHT. Obviously NOW...</td>\n",
       "      <td>0</td>\n",
       "    </tr>\n",
       "    <tr>\n",
       "      <th>1</th>\n",
       "      <td>@Ange1isa  Robert Pattinson was hit by  a cab....</td>\n",
       "      <td>0</td>\n",
       "    </tr>\n",
       "    <tr>\n",
       "      <th>2</th>\n",
       "      <td>They killed CORNBREAD!!!!  http://bit.ly/3PCl7R</td>\n",
       "      <td>0</td>\n",
       "    </tr>\n",
       "    <tr>\n",
       "      <th>3</th>\n",
       "      <td>@reemakoul why is twitterfox not working! i wr...</td>\n",
       "      <td>0</td>\n",
       "    </tr>\n",
       "    <tr>\n",
       "      <th>4</th>\n",
       "      <td>@verabeltran hi.you're still talking to me?   ...</td>\n",
       "      <td>0</td>\n",
       "    </tr>\n",
       "  </tbody>\n",
       "</table>\n",
       "</div>"
      ],
      "text/plain": [
       "                                                text  target\n",
       "0  LOLLL IT IS OFFICIALLY DAYLIGHT. Obviously NOW...       0\n",
       "1  @Ange1isa  Robert Pattinson was hit by  a cab....       0\n",
       "2    They killed CORNBREAD!!!!  http://bit.ly/3PCl7R       0\n",
       "3  @reemakoul why is twitterfox not working! i wr...       0\n",
       "4  @verabeltran hi.you're still talking to me?   ...       0"
      ]
     },
     "execution_count": 1,
     "metadata": {},
     "output_type": "execute_result"
    }
   ],
   "source": [
    "import pandas as pd\n",
    "\n",
    "df_train = pd.read_csv('train.csv')\n",
    "df_train.head()"
   ]
  },
  {
   "cell_type": "code",
   "execution_count": 2,
   "metadata": {},
   "outputs": [
    {
     "data": {
      "text/html": [
       "<div>\n",
       "<style scoped>\n",
       "    .dataframe tbody tr th:only-of-type {\n",
       "        vertical-align: middle;\n",
       "    }\n",
       "\n",
       "    .dataframe tbody tr th {\n",
       "        vertical-align: top;\n",
       "    }\n",
       "\n",
       "    .dataframe thead th {\n",
       "        text-align: right;\n",
       "    }\n",
       "</style>\n",
       "<table border=\"1\" class=\"dataframe\">\n",
       "  <thead>\n",
       "    <tr style=\"text-align: right;\">\n",
       "      <th></th>\n",
       "      <th>text</th>\n",
       "      <th>target</th>\n",
       "    </tr>\n",
       "  </thead>\n",
       "  <tbody>\n",
       "    <tr>\n",
       "      <th>0</th>\n",
       "      <td>@rubyredtees You know you will .......    This...</td>\n",
       "      <td>1</td>\n",
       "    </tr>\n",
       "    <tr>\n",
       "      <th>1</th>\n",
       "      <td>@actionsmotives Besides proving your natural h...</td>\n",
       "      <td>1</td>\n",
       "    </tr>\n",
       "    <tr>\n",
       "      <th>2</th>\n",
       "      <td>@corkyloowho me too</td>\n",
       "      <td>0</td>\n",
       "    </tr>\n",
       "    <tr>\n",
       "      <th>3</th>\n",
       "      <td>@samcarew it's still on! On my way to Berlin f...</td>\n",
       "      <td>1</td>\n",
       "    </tr>\n",
       "    <tr>\n",
       "      <th>4</th>\n",
       "      <td>I soooooo don't wanna go to work today.</td>\n",
       "      <td>0</td>\n",
       "    </tr>\n",
       "  </tbody>\n",
       "</table>\n",
       "</div>"
      ],
      "text/plain": [
       "                                                text  target\n",
       "0  @rubyredtees You know you will .......    This...       1\n",
       "1  @actionsmotives Besides proving your natural h...       1\n",
       "2                               @corkyloowho me too        0\n",
       "3  @samcarew it's still on! On my way to Berlin f...       1\n",
       "4           I soooooo don't wanna go to work today.        0"
      ]
     },
     "execution_count": 2,
     "metadata": {},
     "output_type": "execute_result"
    }
   ],
   "source": [
    "df_val = pd.read_csv('validation.csv')\n",
    "df_val.head()"
   ]
  },
  {
   "cell_type": "code",
   "execution_count": 3,
   "metadata": {},
   "outputs": [
    {
     "name": "stderr",
     "output_type": "stream",
     "text": [
      "2021-09-16 14:53:34.021635: I tensorflow/stream_executor/platform/default/dso_loader.cc:49] Successfully opened dynamic library libcudart.so.11.0\n",
      "2021-09-16 14:54:09.785178: I tensorflow/compiler/jit/xla_cpu_device.cc:41] Not creating XLA devices, tf_xla_enable_xla_devices not set\n",
      "2021-09-16 14:54:09.792415: I tensorflow/stream_executor/platform/default/dso_loader.cc:49] Successfully opened dynamic library libcuda.so.1\n",
      "2021-09-16 14:54:09.881397: I tensorflow/stream_executor/cuda/cuda_gpu_executor.cc:941] successful NUMA node read from SysFS had negative value (-1), but there must be at least one NUMA node, so returning NUMA node zero\n",
      "2021-09-16 14:54:09.881980: I tensorflow/core/common_runtime/gpu/gpu_device.cc:1720] Found device 0 with properties: \n",
      "pciBusID: 0000:01:00.0 name: NVIDIA GeForce GTX 1050 Ti computeCapability: 6.1\n",
      "coreClock: 1.62GHz coreCount: 6 deviceMemorySize: 3.95GiB deviceMemoryBandwidth: 104.43GiB/s\n",
      "2021-09-16 14:54:09.882018: I tensorflow/stream_executor/platform/default/dso_loader.cc:49] Successfully opened dynamic library libcudart.so.11.0\n",
      "2021-09-16 14:54:09.892132: I tensorflow/stream_executor/platform/default/dso_loader.cc:49] Successfully opened dynamic library libcublas.so.11\n",
      "2021-09-16 14:54:09.892253: I tensorflow/stream_executor/platform/default/dso_loader.cc:49] Successfully opened dynamic library libcublasLt.so.11\n",
      "2021-09-16 14:54:09.894750: I tensorflow/stream_executor/platform/default/dso_loader.cc:49] Successfully opened dynamic library libcufft.so.10\n",
      "2021-09-16 14:54:09.897997: I tensorflow/stream_executor/platform/default/dso_loader.cc:49] Successfully opened dynamic library libcurand.so.10\n",
      "2021-09-16 14:54:09.906329: I tensorflow/stream_executor/platform/default/dso_loader.cc:49] Successfully opened dynamic library libcusolver.so.10\n",
      "2021-09-16 14:54:09.908277: I tensorflow/stream_executor/platform/default/dso_loader.cc:49] Successfully opened dynamic library libcusparse.so.11\n",
      "2021-09-16 14:54:09.910265: I tensorflow/stream_executor/platform/default/dso_loader.cc:49] Successfully opened dynamic library libcudnn.so.8\n",
      "2021-09-16 14:54:09.910407: I tensorflow/stream_executor/cuda/cuda_gpu_executor.cc:941] successful NUMA node read from SysFS had negative value (-1), but there must be at least one NUMA node, so returning NUMA node zero\n",
      "2021-09-16 14:54:09.911237: I tensorflow/stream_executor/cuda/cuda_gpu_executor.cc:941] successful NUMA node read from SysFS had negative value (-1), but there must be at least one NUMA node, so returning NUMA node zero\n",
      "2021-09-16 14:54:09.911781: I tensorflow/core/common_runtime/gpu/gpu_device.cc:1862] Adding visible gpu devices: 0\n",
      "2021-09-16 14:54:09.912883: I tensorflow/compiler/jit/xla_gpu_device.cc:99] Not creating XLA devices, tf_xla_enable_xla_devices not set\n",
      "2021-09-16 14:54:09.913030: I tensorflow/stream_executor/cuda/cuda_gpu_executor.cc:941] successful NUMA node read from SysFS had negative value (-1), but there must be at least one NUMA node, so returning NUMA node zero\n",
      "2021-09-16 14:54:09.913590: I tensorflow/core/common_runtime/gpu/gpu_device.cc:1720] Found device 0 with properties: \n",
      "pciBusID: 0000:01:00.0 name: NVIDIA GeForce GTX 1050 Ti computeCapability: 6.1\n",
      "coreClock: 1.62GHz coreCount: 6 deviceMemorySize: 3.95GiB deviceMemoryBandwidth: 104.43GiB/s\n",
      "2021-09-16 14:54:09.913629: I tensorflow/stream_executor/platform/default/dso_loader.cc:49] Successfully opened dynamic library libcudart.so.11.0\n",
      "2021-09-16 14:54:09.913662: I tensorflow/stream_executor/platform/default/dso_loader.cc:49] Successfully opened dynamic library libcublas.so.11\n",
      "2021-09-16 14:54:09.913688: I tensorflow/stream_executor/platform/default/dso_loader.cc:49] Successfully opened dynamic library libcublasLt.so.11\n",
      "2021-09-16 14:54:09.913714: I tensorflow/stream_executor/platform/default/dso_loader.cc:49] Successfully opened dynamic library libcufft.so.10\n",
      "2021-09-16 14:54:09.913740: I tensorflow/stream_executor/platform/default/dso_loader.cc:49] Successfully opened dynamic library libcurand.so.10\n",
      "2021-09-16 14:54:09.913766: I tensorflow/stream_executor/platform/default/dso_loader.cc:49] Successfully opened dynamic library libcusolver.so.10\n",
      "2021-09-16 14:54:09.913791: I tensorflow/stream_executor/platform/default/dso_loader.cc:49] Successfully opened dynamic library libcusparse.so.11\n",
      "2021-09-16 14:54:09.913817: I tensorflow/stream_executor/platform/default/dso_loader.cc:49] Successfully opened dynamic library libcudnn.so.8\n",
      "2021-09-16 14:54:09.913909: I tensorflow/stream_executor/cuda/cuda_gpu_executor.cc:941] successful NUMA node read from SysFS had negative value (-1), but there must be at least one NUMA node, so returning NUMA node zero\n",
      "2021-09-16 14:54:09.914468: I tensorflow/stream_executor/cuda/cuda_gpu_executor.cc:941] successful NUMA node read from SysFS had negative value (-1), but there must be at least one NUMA node, so returning NUMA node zero\n",
      "2021-09-16 14:54:09.914956: I tensorflow/core/common_runtime/gpu/gpu_device.cc:1862] Adding visible gpu devices: 0\n",
      "2021-09-16 14:54:09.915003: I tensorflow/stream_executor/platform/default/dso_loader.cc:49] Successfully opened dynamic library libcudart.so.11.0\n",
      "2021-09-16 14:54:10.589103: I tensorflow/core/common_runtime/gpu/gpu_device.cc:1261] Device interconnect StreamExecutor with strength 1 edge matrix:\n",
      "2021-09-16 14:54:10.589159: I tensorflow/core/common_runtime/gpu/gpu_device.cc:1267]      0 \n",
      "2021-09-16 14:54:10.589170: I tensorflow/core/common_runtime/gpu/gpu_device.cc:1280] 0:   N \n",
      "2021-09-16 14:54:10.589442: I tensorflow/stream_executor/cuda/cuda_gpu_executor.cc:941] successful NUMA node read from SysFS had negative value (-1), but there must be at least one NUMA node, so returning NUMA node zero\n",
      "2021-09-16 14:54:10.590040: I tensorflow/stream_executor/cuda/cuda_gpu_executor.cc:941] successful NUMA node read from SysFS had negative value (-1), but there must be at least one NUMA node, so returning NUMA node zero\n",
      "2021-09-16 14:54:10.590539: I tensorflow/stream_executor/cuda/cuda_gpu_executor.cc:941] successful NUMA node read from SysFS had negative value (-1), but there must be at least one NUMA node, so returning NUMA node zero\n",
      "2021-09-16 14:54:10.590973: I tensorflow/core/common_runtime/gpu/gpu_device.cc:1406] Created TensorFlow device (/job:localhost/replica:0/task:0/device:GPU:0 with 3525 MB memory) -> physical GPU (device: 0, name: NVIDIA GeForce GTX 1050 Ti, pci bus id: 0000:01:00.0, compute capability: 6.1)\n"
     ]
    }
   ],
   "source": [
    "import tensorflow as tf\n",
    "from tensorflow import keras\n",
    "\n",
    "train_set = tf.data.Dataset.from_tensor_slices((df_train.text, df_train.target)).shuffle(int(1e5)).batch(32).prefetch(1)\n",
    "val_set = tf.data.Dataset.from_tensor_slices((df_val.text, df_val.target)).batch(32).prefetch(1)"
   ]
  },
  {
   "cell_type": "code",
   "execution_count": 4,
   "metadata": {},
   "outputs": [],
   "source": [
    "from collections import Counter\n",
    "\n",
    "class TextVectorization(keras.layers.Layer):\n",
    "    def __init__(self, output_sequence_length=64, max_vocab_size=50000, n_oov_buckets=1000, dtype=tf.string, **kwargs):\n",
    "        super().__init__(dtype=dtype, **kwargs)\n",
    "        self.table = None\n",
    "        self.output_sequence_length = output_sequence_length\n",
    "        self.max_vocab_size = max_vocab_size\n",
    "        self.n_oov_buckets = n_oov_buckets\n",
    "        \n",
    "    def _preprocess(self, input_data):\n",
    "        data = tf.strings.lower(input_data)\n",
    "        data = tf.strings.regex_replace(data, '[^a-z]', ' ')\n",
    "        data = tf.strings.split(data)\n",
    "        data = data.to_tensor(default_value=b'<pad>', shape=(None, self.output_sequence_length))\n",
    "        \n",
    "        return data\n",
    "    \n",
    "    def _get_vocab(self, data_sample):\n",
    "        data_sample = self._preprocess(data_sample)\n",
    "        data_sample = data_sample.numpy().reshape(-1)\n",
    "        counter = Counter(data_sample)\n",
    "        _ = counter.pop(b'<pad>', None)\n",
    "        \n",
    "        return [b'<pad>'] + [token for token, count in counter.most_common(self.max_vocab_size)]\n",
    "        \n",
    "    def adapt(self, data_sample):\n",
    "        vocab = self._get_vocab(data_sample)\n",
    "        indices = tf.range(len(vocab), dtype=tf.int64)\n",
    "        table_init = tf.lookup.KeyValueTensorInitializer(vocab, indices)\n",
    "        self.table = tf.lookup.StaticVocabularyTable(table_init, self.n_oov_buckets)\n",
    "        \n",
    "        return self\n",
    "        \n",
    "    def call(self, input_data):\n",
    "        data = self._preprocess(input_data)\n",
    "        \n",
    "        return self.table.lookup(data)\n",
    "    \n",
    "    def compute_output_shape(self, batch_input_shape):\n",
    "        return tf.TensorShape(batch_input_shape.as_list() + [self.output_sequence_length])\n",
    "    \n",
    "    def get_config(self):\n",
    "        base_config = super().get_config()\n",
    "        return {**base_config, \n",
    "                'output_sequence_length': self.output_sequence_length,\n",
    "                'max_vocab_size': self.max_vocab_size,\n",
    "                'n_oov_buckets': self.n_oov_buckets\n",
    "               }"
   ]
  },
  {
   "cell_type": "code",
   "execution_count": 5,
   "metadata": {},
   "outputs": [],
   "source": [
    "# max_vocab_size = 10000\n",
    "# oov_buckets = 500\n",
    "\n",
    "# text_vectorizer = TextVectorization(input_shape=(), max_vocab_size=max_vocab_size,\n",
    "#                                     n_oov_buckets=oov_buckets).adapt(df_train.text)\n",
    "# model = keras.models.Sequential([\n",
    "#     text_vectorizer,\n",
    "#     keras.layers.Embedding(input_dim=max_vocab_size+oov_buckets+1, output_dim=200, mask_zero=True),\n",
    "#     keras.layers.Bidirectional(keras.layers.GRU(units=100, return_sequences=True)),\n",
    "#     keras.layers.Bidirectional(keras.layers.GRU(units=100, return_sequences=True, dropout=0.2)),\n",
    "#     keras.layers.GRU(units=200, dropout=0.2),\n",
    "#     keras.layers.Dropout(0.2),\n",
    "#     keras.layers.Dense(1, activation='sigmoid')\n",
    "# ])"
   ]
  },
  {
   "cell_type": "code",
   "execution_count": 6,
   "metadata": {},
   "outputs": [
    {
     "name": "stderr",
     "output_type": "stream",
     "text": [
      "2021-09-16 14:54:21.645814: W tensorflow/core/framework/cpu_allocator_impl.cc:80] Allocation of 520805352 exceeds 10% of free system memory.\n",
      "2021-09-16 14:54:23.197324: W tensorflow/core/framework/cpu_allocator_impl.cc:80] Allocation of 2426880000 exceeds 10% of free system memory.\n"
     ]
    }
   ],
   "source": [
    "max_vocab_size = 10000\n",
    "oov_buckets = 500\n",
    "\n",
    "text_vectorizer = TextVectorization(input_shape=(), max_vocab_size=max_vocab_size,\n",
    "                                    n_oov_buckets=oov_buckets).adapt(df_train.text)\n",
    "model = keras.models.Sequential([\n",
    "    text_vectorizer,\n",
    "    keras.layers.Embedding(input_dim=max_vocab_size+oov_buckets+1, output_dim=200, mask_zero=True),\n",
    "    keras.layers.Bidirectional(keras.layers.LSTM(units=100, return_sequences=True)),\n",
    "    keras.layers.Bidirectional(keras.layers.LSTM(units=100, return_sequences=True, dropout=0.2)),\n",
    "    keras.layers.LSTM(units=200, dropout=0.2),\n",
    "    keras.layers.Dropout(0.2),\n",
    "    keras.layers.Dense(1, activation='sigmoid')\n",
    "])"
   ]
  },
  {
   "cell_type": "code",
   "execution_count": 7,
   "metadata": {},
   "outputs": [
    {
     "name": "stdout",
     "output_type": "stream",
     "text": [
      "Model: \"sequential\"\n",
      "_________________________________________________________________\n",
      "Layer (type)                 Output Shape              Param #   \n",
      "=================================================================\n",
      "text_vectorization (TextVect (None, 64)                0         \n",
      "_________________________________________________________________\n",
      "embedding (Embedding)        (None, 64, 200)           2100200   \n",
      "_________________________________________________________________\n",
      "bidirectional (Bidirectional (None, 64, 200)           240800    \n",
      "_________________________________________________________________\n",
      "bidirectional_1 (Bidirection (None, 64, 200)           240800    \n",
      "_________________________________________________________________\n",
      "lstm_2 (LSTM)                (None, 200)               320800    \n",
      "_________________________________________________________________\n",
      "dropout (Dropout)            (None, 200)               0         \n",
      "_________________________________________________________________\n",
      "dense (Dense)                (None, 1)                 201       \n",
      "=================================================================\n",
      "Total params: 2,902,801\n",
      "Trainable params: 2,902,801\n",
      "Non-trainable params: 0\n",
      "_________________________________________________________________\n"
     ]
    }
   ],
   "source": [
    "model.summary()"
   ]
  },
  {
   "cell_type": "code",
   "execution_count": 8,
   "metadata": {},
   "outputs": [
    {
     "name": "stderr",
     "output_type": "stream",
     "text": [
      "2021-09-16 14:55:02.441204: I tensorflow/core/profiler/lib/profiler_session.cc:136] Profiler session initializing.\n",
      "2021-09-16 14:55:02.441366: I tensorflow/core/profiler/lib/profiler_session.cc:155] Profiler session started.\n",
      "2021-09-16 14:55:02.441473: I tensorflow/core/profiler/internal/gpu/cupti_tracer.cc:1365] Profiler found 1 GPUs\n",
      "2021-09-16 14:55:02.454967: I tensorflow/stream_executor/platform/default/dso_loader.cc:49] Successfully opened dynamic library libcupti.so.11.0\n",
      "2021-09-16 14:55:02.642371: I tensorflow/core/profiler/lib/profiler_session.cc:172] Profiler session tear down.\n",
      "2021-09-16 14:55:02.642542: I tensorflow/core/profiler/internal/gpu/cupti_tracer.cc:1487] CUPTI activity buffer flushed\n"
     ]
    }
   ],
   "source": [
    "import os\n",
    "\n",
    "root_logdir = os.path.join(os.curdir, \"logs\")\n",
    "\n",
    "def get_run_logdir():\n",
    "    import time\n",
    "    run_id = time.strftime(\"run_%Y_%m_%d-%H_%M_%S_LSTM\")\n",
    "    return os.path.join(root_logdir, run_id)\n",
    "\n",
    "\n",
    "model.compile(loss='binary_crossentropy', metrics=['accuracy'], optimizer='nadam')\n",
    "callbacks = [\n",
    "    tf.keras.callbacks.TensorBoard(get_run_logdir(), histogram_freq=1, profile_batch='400,500'),\n",
    "    tf.keras.callbacks.EarlyStopping(patience=3, restore_best_weights=True)\n",
    "]"
   ]
  },
  {
   "cell_type": "code",
   "execution_count": 9,
   "metadata": {},
   "outputs": [
    {
     "name": "stdout",
     "output_type": "stream",
     "text": [
      "Epoch 1/100\n"
     ]
    },
    {
     "name": "stderr",
     "output_type": "stream",
     "text": [
      "2021-09-16 14:55:18.547913: I tensorflow/compiler/mlir/mlir_graph_optimization_pass.cc:116] None of the MLIR optimization passes are enabled (registered 2)\n",
      "2021-09-16 14:55:18.629239: I tensorflow/core/platform/profile_utils/cpu_utils.cc:112] CPU Frequency: 2199995000 Hz\n",
      "2021-09-16 14:55:20.697957: I tensorflow/stream_executor/platform/default/dso_loader.cc:49] Successfully opened dynamic library libcublas.so.11\n",
      "2021-09-16 14:55:21.010239: I tensorflow/stream_executor/platform/default/dso_loader.cc:49] Successfully opened dynamic library libcublasLt.so.11\n",
      "2021-09-16 14:55:21.361334: I tensorflow/stream_executor/platform/default/dso_loader.cc:49] Successfully opened dynamic library libcudnn.so.8\n"
     ]
    },
    {
     "name": "stdout",
     "output_type": "stream",
     "text": [
      "  403/49375 [..............................] - ETA: 32:56 - loss: 0.6095 - accuracy: 0.6594"
     ]
    },
    {
     "name": "stderr",
     "output_type": "stream",
     "text": [
      "2021-09-16 14:55:42.952754: I tensorflow/core/profiler/lib/profiler_session.cc:136] Profiler session initializing.\n",
      "2021-09-16 14:55:42.952796: I tensorflow/core/profiler/lib/profiler_session.cc:155] Profiler session started.\n"
     ]
    },
    {
     "name": "stdout",
     "output_type": "stream",
     "text": [
      "  505/49375 [..............................] - ETA: 1:05:45 - loss: 0.5989 - accuracy: 0.6708"
     ]
    },
    {
     "name": "stderr",
     "output_type": "stream",
     "text": [
      "2021-09-16 14:55:48.802271: I tensorflow/core/profiler/lib/profiler_session.cc:71] Profiler session collecting data.\n",
      "2021-09-16 14:55:48.874278: I tensorflow/core/profiler/internal/gpu/cupti_tracer.cc:1487] CUPTI activity buffer flushed\n",
      "2021-09-16 14:55:49.975810: I tensorflow/core/profiler/internal/gpu/cupti_collector.cc:228]  GpuTracer has collected 208090 callback api events and 207280 activity events. \n",
      "2021-09-16 14:55:54.429560: I tensorflow/core/profiler/lib/profiler_session.cc:172] Profiler session tear down.\n",
      "2021-09-16 14:55:59.791937: I tensorflow/core/profiler/rpc/client/save_profile.cc:137] Creating directory: ./logs/run_2021_09_16-14_55_02_LSTM/train/plugins/profile/2021_09_16_14_55_54\n",
      "2021-09-16 14:56:03.933825: I tensorflow/core/profiler/rpc/client/save_profile.cc:143] Dumped gzipped tool data for trace.json.gz to ./logs/run_2021_09_16-14_55_02_LSTM/train/plugins/profile/2021_09_16_14_55_54/ahmedessam-G5-5587.trace.json.gz\n",
      "2021-09-16 14:56:06.782407: I tensorflow/core/profiler/rpc/client/save_profile.cc:137] Creating directory: ./logs/run_2021_09_16-14_55_02_LSTM/train/plugins/profile/2021_09_16_14_55_54\n",
      "2021-09-16 14:56:06.802884: I tensorflow/core/profiler/rpc/client/save_profile.cc:143] Dumped gzipped tool data for memory_profile.json.gz to ./logs/run_2021_09_16-14_55_02_LSTM/train/plugins/profile/2021_09_16_14_55_54/ahmedessam-G5-5587.memory_profile.json.gz\n",
      "2021-09-16 14:56:07.193176: I tensorflow/core/profiler/rpc/client/capture_profile.cc:251] Creating directory: ./logs/run_2021_09_16-14_55_02_LSTM/train/plugins/profile/2021_09_16_14_55_54Dumped tool data for xplane.pb to ./logs/run_2021_09_16-14_55_02_LSTM/train/plugins/profile/2021_09_16_14_55_54/ahmedessam-G5-5587.xplane.pb\n",
      "Dumped tool data for overview_page.pb to ./logs/run_2021_09_16-14_55_02_LSTM/train/plugins/profile/2021_09_16_14_55_54/ahmedessam-G5-5587.overview_page.pb\n",
      "Dumped tool data for input_pipeline.pb to ./logs/run_2021_09_16-14_55_02_LSTM/train/plugins/profile/2021_09_16_14_55_54/ahmedessam-G5-5587.input_pipeline.pb\n",
      "Dumped tool data for tensorflow_stats.pb to ./logs/run_2021_09_16-14_55_02_LSTM/train/plugins/profile/2021_09_16_14_55_54/ahmedessam-G5-5587.tensorflow_stats.pb\n",
      "Dumped tool data for kernel_stats.pb to ./logs/run_2021_09_16-14_55_02_LSTM/train/plugins/profile/2021_09_16_14_55_54/ahmedessam-G5-5587.kernel_stats.pb\n",
      "\n"
     ]
    },
    {
     "name": "stdout",
     "output_type": "stream",
     "text": [
      "49375/49375 [==============================] - 2070s 41ms/step - loss: 0.4291 - accuracy: 0.8004 - val_loss: 0.3779 - val_accuracy: 0.8268\n",
      "Epoch 2/100\n",
      "49375/49375 [==============================] - 1732s 35ms/step - loss: 0.3672 - accuracy: 0.8361 - val_loss: 0.3698 - val_accuracy: 0.8297\n",
      "Epoch 3/100\n",
      "49375/49375 [==============================] - 2506s 51ms/step - loss: 0.3492 - accuracy: 0.8456 - val_loss: 0.3704 - val_accuracy: 0.8321\n",
      "Epoch 4/100\n",
      "49375/49375 [==============================] - 1760s 36ms/step - loss: 0.3362 - accuracy: 0.8526 - val_loss: 0.3699 - val_accuracy: 0.8324\n",
      "Epoch 5/100\n",
      "49375/49375 [==============================] - 1698s 34ms/step - loss: 0.3248 - accuracy: 0.8590 - val_loss: 0.3794 - val_accuracy: 0.8328\n"
     ]
    },
    {
     "data": {
      "text/plain": [
       "<tensorflow.python.keras.callbacks.History at 0x7fc6db737ca0>"
      ]
     },
     "execution_count": 9,
     "metadata": {},
     "output_type": "execute_result"
    }
   ],
   "source": [
    "model.fit(train_set, epochs=100, callbacks=callbacks, validation_data=val_set)"
   ]
  },
  {
   "cell_type": "code",
   "execution_count": null,
   "metadata": {},
   "outputs": [],
   "source": []
  }
 ],
 "metadata": {
  "kernelspec": {
   "display_name": "myenv",
   "language": "python",
   "name": "myenv"
  },
  "language_info": {
   "codemirror_mode": {
    "name": "ipython",
    "version": 3
   },
   "file_extension": ".py",
   "mimetype": "text/x-python",
   "name": "python",
   "nbconvert_exporter": "python",
   "pygments_lexer": "ipython3",
   "version": "3.8.0"
  }
 },
 "nbformat": 4,
 "nbformat_minor": 4
}
