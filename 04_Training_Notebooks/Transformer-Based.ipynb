{
 "cells": [
  {
   "cell_type": "code",
   "execution_count": null,
   "metadata": {},
   "outputs": [],
   "source": [
    "import re\n",
    "import torchmetrics\n",
    "import torch\n",
    "\n",
    "import pandas as pd\n",
    "import pytorch_lightning as pl\n",
    "\n",
    "from torch.nn import functional as F\n",
    "from torch.utils.data import DataLoader, Dataset\n",
    "\n",
    "\n",
    "config = {\n",
    "    'model_name': 'bert-base-uncased',\n",
    "    'learning_rate': 1e-5,\n",
    "    'path': '../input/sentiment-analysis/',\n",
    "    'max_seq_len': 64,\n",
    "    'batch_size': 32,\n",
    "    'num_workers': 2,\n",
    "    'num_epochs': 5,\n",
    "    'output_units': 1,\n",
    "    'dropout': 0.1\n",
    "}"
   ]
  },
  {
   "cell_type": "code",
   "execution_count": null,
   "metadata": {},
   "outputs": [],
   "source": [
    "class SentimentAnalyzer(pl.LightningModule):\n",
    "    def __init__(self, model_name, output_units, dropout):\n",
    "        super().__init__()\n",
    "        self.model = torch.hub.load('huggingface/pytorch-transformers', \n",
    "                                    'modelForSequenceClassification', \n",
    "                                    model_name, \n",
    "                                    num_labels=output_units, \n",
    "                                    hidden_dropout_prob=dropout,\n",
    "                                   )\n",
    "        \n",
    "        self.train_acc = torchmetrics.Accuracy()\n",
    "        self.val_acc = torchmetrics.Accuracy() \n",
    "        \n",
    "    def forward(self, input_ids, attention_mask):\n",
    "        return self.model(input_ids, attention_mask)[0]\n",
    "    \n",
    "    def training_step(self, batch, batch_nb):\n",
    "        input_ids, attention_mask, targets = batch\n",
    "        preds = self(input_ids, attention_mask)\n",
    "        loss = F.binary_cross_entropy_with_logits(preds.view(-1), targets)\n",
    "        self.log('train_loss', loss)\n",
    "        \n",
    "        self.train_acc(preds.view(-1), targets.type(torch.int64))\n",
    "        self.log('train_acc', self.train_acc, on_step=True, on_epoch=False, prog_bar=True)\n",
    "        \n",
    "        return loss\n",
    "    \n",
    "    def validation_step(self, batch, batch_nb):\n",
    "        input_ids, attention_mask, targets = batch\n",
    "        preds = self(input_ids, attention_mask)\n",
    "        loss = F.binary_cross_entropy_with_logits(preds.view(-1), targets)\n",
    "        self.log('val_loss', loss, on_step=False, on_epoch=True, prog_bar=True)\n",
    "        \n",
    "        self.val_acc(preds.view(-1), targets.type(torch.int64))\n",
    "        self.log('val_acc', self.val_acc, on_step=False, on_epoch=True, prog_bar=True)\n",
    "        \n",
    "        return loss\n",
    "    \n",
    "    def configure_optimizers(self):\n",
    "        return torch.optim.Adam(self.parameters(), lr=config['learning_rate'])"
   ]
  },
  {
   "cell_type": "code",
   "execution_count": null,
   "metadata": {},
   "outputs": [],
   "source": [
    "class BERTDataset(Dataset):\n",
    "    def __init__(self, file_name, model_name, max_seq_len, test=False):\n",
    "        super().__init__()\n",
    "        self.df = pd.read_csv(file_name).iloc[:10000, :]\n",
    "        self.tokenizer = torch.hub.load('huggingface/pytorch-transformers', 'tokenizer', model_name)\n",
    "        self.max_seq_len = max_seq_len\n",
    "        self.test = test\n",
    "        \n",
    "    def __len__(self):\n",
    "        return len(self.df)\n",
    "    \n",
    "    def __getitem__(self, idx):\n",
    "        text = self.df.loc[idx, 'text']\n",
    "        text = re.sub(r\"(?:\\@|https?\\://)\\S+\", \"\", text)\n",
    "        text = re.sub(r\"[^a-zA-Z]\", ' ', text)\n",
    "        text = text.lower()\n",
    "        encoded_input = self.tokenizer.encode_plus(text, padding='max_length', max_length=self.max_seq_len, \n",
    "                                                   add_special_tokens=True, truncation='longest_first')\n",
    "        \n",
    "        if self.test:\n",
    "            return torch.tensor(encoded_input['input_ids']), torch.tensor(encoded_input['attention_mask'])        \n",
    "            \n",
    "        else:\n",
    "            target = self.df.loc[idx, 'target']\n",
    "            return torch.tensor(encoded_input['input_ids']), torch.tensor(encoded_input['attention_mask']), torch.tensor(target, dtype=torch.float32)"
   ]
  },
  {
   "cell_type": "code",
   "execution_count": null,
   "metadata": {},
   "outputs": [],
   "source": [
    "train_dataset = BERTDataset(config['path'] + 'train.csv', config['model_name'], config['max_seq_len'])\n",
    "dev_dataset = BERTDataset(config['path'] + 'validation.csv', config['model_name'], config['max_seq_len'])\n",
    "\n",
    "train_loader = torch.utils.data.DataLoader(train_dataset, batch_size=config['batch_size'], shuffle=True, num_workers=config['num_workers'])\n",
    "dev_loader = torch.utils.data.DataLoader(dev_dataset, batch_size=config['batch_size'], shuffle=False, num_workers=config['num_workers'])"
   ]
  },
  {
   "cell_type": "code",
   "execution_count": null,
   "metadata": {},
   "outputs": [],
   "source": [
    "sentiment_analyzer = SentimentAnalyzer(config['model_name'], config['output_units'], config['dropout'])\n",
    "callbacks = [\n",
    "    pl.callbacks.ModelCheckpoint(monitor='val_acc', dirpath='./', verbose=True, mode='max'),\n",
    "    pl.callbacks.EarlyStopping(patience=2, monitor='val_acc', verbose=True, mode='max')\n",
    "]\n",
    "trainer = pl.Trainer(max_epochs=config['num_epochs'], callbacks=callbacks, gpus=1)    \n",
    "trainer.fit(sentiment_analyzer, train_loader, dev_loader)"
   ]
  },
  {
   "cell_type": "code",
   "execution_count": null,
   "metadata": {},
   "outputs": [],
   "source": []
  }
 ],
 "metadata": {
  "kernelspec": {
   "display_name": "Python 3 (ipykernel)",
   "language": "python",
   "name": "python3"
  },
  "language_info": {
   "codemirror_mode": {
    "name": "ipython",
    "version": 3
   },
   "file_extension": ".py",
   "mimetype": "text/x-python",
   "name": "python",
   "nbconvert_exporter": "python",
   "pygments_lexer": "ipython3",
   "version": "3.8.0"
  }
 },
 "nbformat": 4,
 "nbformat_minor": 4
}
